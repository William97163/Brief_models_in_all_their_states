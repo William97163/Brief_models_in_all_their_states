{
 "cells": [
  {
   "cell_type": "markdown",
   "id": "2a07ffb8-719e-45b8-a180-01bed3f8bfee",
   "metadata": {},
   "source": [
    "<div style=\"display: flex; background-color: RGB(255,114,0);\" >\n",
    "<h1 style=\"margin: auto; padding: 30px; \">Brief - Les modèles dans tous leurs états </h1>\n",
    "</div>"
   ]
  },
  {
   "cell_type": "markdown",
   "id": "25fcd8c9-7e10-4888-9220-8de3009ae935",
   "metadata": {},
   "source": [
    "<div style=\"background-color: RGB(51,165,182);\" >\n",
    "<h2 style=\"margin: auto; padding: 20px; color:#fff; \">hand-written digits</h2>\n",
    "</div>"
   ]
  },
  {
   "cell_type": "markdown",
   "id": "2aa62ae5-16b6-4e03-9123-0fdd6cec199a",
   "metadata": {},
   "source": [
    "La problématique étudiée est le cas avec le dataset hand-written digits. <br>\n",
    "L'objectif de ce cas est de reconnaître les chiffres de 1 à 10 à partir des images fournies dans le dataset. </h3>"
   ]
  },
  {
   "cell_type": "markdown",
   "id": "efbb26e6-d016-4ee8-a531-785069c6ce41",
   "metadata": {},
   "source": [
    "Il s'agit donc d'un cas de machine learning supervisé, et plus spécifiquement d'un cas de classification."
   ]
  },
  {
   "cell_type": "markdown",
   "id": "aa3c0ce5-0e3e-41f8-8acb-a1b3528b364c",
   "metadata": {},
   "source": [
    "<div style=\"border: 1px solid RGB(51,165,182);\" >\n",
    "<h3 style=\"margin: auto; padding: 20px; color: RGB(51,165,182); \">1 - Import des librairies et du dataset</h3>\n",
    "</div>"
   ]
  },
  {
   "cell_type": "code",
   "execution_count": 1,
   "id": "527c5244-1ff9-4e3c-824f-944600c71f81",
   "metadata": {},
   "outputs": [],
   "source": [
    "import matplotlib.pyplot as plt\n",
    "from sklearn import datasets\n",
    "from sklearn import svm\n",
    "from sklearn.model_selection import train_test_split\n",
    "from sklearn.svm import SVC\n",
    "from sklearn.metrics import classification_report\n",
    "from sklearn.inspection import DecisionBoundaryDisplay\n",
    "import numpy as np\n",
    "import collections"
   ]
  },
  {
   "cell_type": "code",
   "execution_count": 2,
   "id": "ad82c7d3-dc03-45e6-81ca-70923f010e3d",
   "metadata": {},
   "outputs": [],
   "source": [
    "# Import the hand-written digits dataset\n",
    "digits = datasets.load_digits() "
   ]
  },
  {
   "cell_type": "code",
   "execution_count": 3,
   "id": "6c2bd979-2faa-4be8-9b61-bc0950a79e2b",
   "metadata": {},
   "outputs": [
    {
     "data": {
      "text/plain": [
       "array([[ 0.,  0.,  5., ...,  0.,  0.,  0.],\n",
       "       [ 0.,  0.,  0., ..., 10.,  0.,  0.],\n",
       "       [ 0.,  0.,  0., ..., 16.,  9.,  0.],\n",
       "       ...,\n",
       "       [ 0.,  0.,  1., ...,  6.,  0.,  0.],\n",
       "       [ 0.,  0.,  2., ..., 12.,  0.,  0.],\n",
       "       [ 0.,  0., 10., ..., 12.,  1.,  0.]])"
      ]
     },
     "execution_count": 3,
     "metadata": {},
     "output_type": "execute_result"
    }
   ],
   "source": [
    "# visualising data\n",
    "digits.data"
   ]
  },
  {
   "cell_type": "markdown",
   "id": "4688ac6d-6132-4faa-9d17-f43a414e8339",
   "metadata": {},
   "source": [
    "Nous remarquons ci-dessus que les images sont représentées sous forme de matrice."
   ]
  },
  {
   "cell_type": "code",
   "execution_count": 4,
   "id": "c0dea39d-08af-49f1-9515-ec8e9c0a3c6a",
   "metadata": {},
   "outputs": [
    {
     "data": {
      "image/png": "[encoded data removed]",
      "text/plain": [
       "<Figure size 720x216 with 4 Axes>"
      ]
     },
     "metadata": {
      "needs_background": "light"
     },
     "output_type": "display_data"
    }
   ],
   "source": [
    "# Plot some data to show what they look like\n",
    "fig, axes = plt.subplots(nrows=1, ncols=4, figsize=(10, 3))\n",
    "for ax, image, label in zip(axes, digits.images, digits.target):\n",
    "    ax.set_axis_off()\n",
    "    ax.imshow(image, cmap=plt.cm.gray_r, interpolation=\"nearest\")\n",
    "    ax.set_title(\"Training: %i\" % label)"
   ]
  },
  {
   "cell_type": "code",
   "execution_count": 5,
   "id": "1ddadedc-fdff-488f-a380-77737bf3e1e0",
   "metadata": {},
   "outputs": [],
   "source": [
    "X,y = digits.data, digits.target"
   ]
  },
  {
   "cell_type": "code",
   "execution_count": 6,
   "id": "7f9a1d5d-8b2f-4d5c-bdf0-949ac4556f58",
   "metadata": {},
   "outputs": [
    {
     "name": "stdout",
     "output_type": "stream",
     "text": [
      "Taille avant vectorisation : (1797, 8, 8)\n",
      "Taille après vectorisation : (1797, 64)\n"
     ]
    }
   ],
   "source": [
    "n_samples = len(digits.images)\n",
    "data = digits.images.reshape((n_samples, -1))\n",
    "\n",
    "# Print data shape to understand with what we work\n",
    "print(\"Taille avant vectorisation : {}\\nTaille après vectorisation : {}\".format(digits.images.shape, data.shape))"
   ]
  },
  {
   "cell_type": "markdown",
   "id": "88ce9cbf-e7a1-4bd1-bb7a-7cac6bb8eb7b",
   "metadata": {},
   "source": [
    "Nous allons séparer notre dataset en 2 parties. Une partie pour l'entrainement du modele et l'autre pour le test. Nous faisons cela car il faut test notre modele sur de nouvelles données."
   ]
  },
  {
   "cell_type": "code",
   "execution_count": 7,
   "id": "a0a78eb1-d9d7-4648-865f-61fc5c0dd5b6",
   "metadata": {},
   "outputs": [],
   "source": [
    "X_train, X_test, y_train, y_test = train_test_split(\n",
    "    data, digits.target, test_size=0.2, shuffle=False\n",
    ")"
   ]
  },
  {
   "cell_type": "markdown",
   "id": "1ac0845a-cb4c-4979-9a7d-2eb5c8c64336",
   "metadata": {},
   "source": [
    "<div style=\"border: 1px solid RGB(51,165,182);\" >\n",
    "<h3 style=\"margin: auto; padding: 20px; color: RGB(51,165,182); \">2 - Phase d'entrainement et de prediction</h3>\n",
    "</div>"
   ]
  },
  {
   "cell_type": "markdown",
   "id": "14c04fbe-97dc-49da-9c5e-6f0d5e09e0b7",
   "metadata": {},
   "source": [
    "Il existe differentes méthodes pour notre modele, nous allons donc toutes les utilisées afin de déterminer qu'elle modèle est la méthode la plus adaptée "
   ]
  },
  {
   "cell_type": "code",
   "execution_count": 11,
   "id": "f71783fc-d5de-4a42-9983-19ad988c32c0",
   "metadata": {},
   "outputs": [
    {
     "name": "stdout",
     "output_type": "stream",
     "text": [
      "représentaion du kernel linear :\n",
      "_______________________________________________________\n",
      "              precision    recall  f1-score   support\n",
      "\n",
      "           0       1.00      1.00      1.00        35\n",
      "           1       0.97      1.00      0.99        36\n",
      "           2       1.00      1.00      1.00        35\n",
      "           3       0.97      1.00      0.99        37\n",
      "           4       1.00      1.00      1.00        37\n",
      "           5       1.00      1.00      1.00        37\n",
      "           6       1.00      1.00      1.00        37\n",
      "           7       1.00      1.00      1.00        36\n",
      "           8       1.00      0.97      0.98        33\n",
      "           9       1.00      0.97      0.99        37\n",
      "\n",
      "    accuracy                           0.99       360\n",
      "   macro avg       0.99      0.99      0.99       360\n",
      "weighted avg       0.99      0.99      0.99       360\n",
      "\n",
      "_______________________________________________________\n",
      "représentaion du kernel poly :\n",
      "_______________________________________________________\n",
      "              precision    recall  f1-score   support\n",
      "\n",
      "           0       1.00      1.00      1.00        35\n",
      "           1       0.97      1.00      0.99        36\n",
      "           2       1.00      1.00      1.00        35\n",
      "           3       0.97      1.00      0.99        37\n",
      "           4       1.00      1.00      1.00        37\n",
      "           5       1.00      1.00      1.00        37\n",
      "           6       1.00      1.00      1.00        37\n",
      "           7       1.00      1.00      1.00        36\n",
      "           8       1.00      0.97      0.98        33\n",
      "           9       1.00      0.97      0.99        37\n",
      "\n",
      "    accuracy                           0.99       360\n",
      "   macro avg       0.99      0.99      0.99       360\n",
      "weighted avg       0.99      0.99      0.99       360\n",
      "\n",
      "_______________________________________________________\n",
      "représentaion du kernel rbf :\n",
      "_______________________________________________________\n",
      "              precision    recall  f1-score   support\n",
      "\n",
      "           0       1.00      1.00      1.00        35\n",
      "           1       0.97      1.00      0.99        36\n",
      "           2       1.00      1.00      1.00        35\n",
      "           3       0.97      1.00      0.99        37\n",
      "           4       1.00      1.00      1.00        37\n",
      "           5       1.00      1.00      1.00        37\n",
      "           6       1.00      1.00      1.00        37\n",
      "           7       1.00      1.00      1.00        36\n",
      "           8       1.00      0.97      0.98        33\n",
      "           9       1.00      0.97      0.99        37\n",
      "\n",
      "    accuracy                           0.99       360\n",
      "   macro avg       0.99      0.99      0.99       360\n",
      "weighted avg       0.99      0.99      0.99       360\n",
      "\n",
      "_______________________________________________________\n"
     ]
    }
   ],
   "source": [
    "svclassifier = SVC(kernel=kernels)\n",
    "svclassifier.fit(X_test,y_test)\n",
    "pred = svclassifier.predict(X_test)\n",
    "for kernels in (\"linear\", \"poly\", \"rbf\"):\n",
    "    print(\"représentaion du kernel\",kernels,\":\")\n",
    "    print(\"_\"*55)\n",
    "    print(classification_report(y_test,pred))\n",
    "    print(\"_\"*55)"
   ]
  },
  {
   "cell_type": "markdown",
   "id": "0c9e17a4-4af7-4ff0-8086-c0498f533a9a",
   "metadata": {},
   "source": [
    "### Petite remarque \n",
    "\n",
    "Sur la méthode \"rbf\", nous pouvons voir que certains paramètres ne sont pas parfait"
   ]
  },
  {
   "cell_type": "code",
   "execution_count": 12,
   "id": "0bd5874e-2178-4dd4-9049-97bf77f62ec2",
   "metadata": {},
   "outputs": [
    {
     "name": "stdout",
     "output_type": "stream",
     "text": [
      "[7]\n"
     ]
    }
   ],
   "source": [
    "# display prediction\n",
    "print(svclassifier.predict(digits.data[[7]]))"
   ]
  },
  {
   "cell_type": "code",
   "execution_count": 14,
   "id": "51fe7d9f-79ea-4a0d-9b5f-4a2f91ef5c7c",
   "metadata": {},
   "outputs": [
    {
     "data": {
      "image/png": "[encoded data removed]",
      "text/plain": [
       "<Figure size 432x288 with 1 Axes>"
      ]
     },
     "metadata": {
      "needs_background": "light"
     },
     "output_type": "display_data"
    }
   ],
   "source": [
    "# plot prediction\n",
    "plt.imshow(digits.images[7], cmap=plt.cm.gray_r, interpolation='nearest')\n",
    "plt.show()"
   ]
  },
  {
   "cell_type": "code",
   "execution_count": null,
   "id": "d5f86721-fd17-4004-bfe2-163b67b13c29",
   "metadata": {},
   "outputs": [],
   "source": []
  },
  {
   "cell_type": "code",
   "execution_count": null,
   "id": "b0b6c869-ce19-4b37-9bf4-258584adbd3f",
   "metadata": {},
   "outputs": [],
   "source": []
  }
 ],
 "metadata": {
  "kernelspec": {
   "display_name": "Python 3 (ipykernel)",
   "language": "python",
   "name": "python3"
  },
  "language_info": {
   "codemirror_mode": {
    "name": "ipython",
    "version": 3
   },
   "file_extension": ".py",
   "mimetype": "text/x-python",
   "name": "python",
   "nbconvert_exporter": "python",
   "pygments_lexer": "ipython3",
   "version": "3.9.12"
  }
 },
 "nbformat": 4,
 "nbformat_minor": 5
}
